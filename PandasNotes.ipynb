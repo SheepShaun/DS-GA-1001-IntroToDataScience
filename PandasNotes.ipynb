{
 "cells": [
  {
   "cell_type": "markdown",
   "metadata": {},
   "source": [
    "## Notes and Useful snippets for Pandas"
   ]
  },
  {
   "cell_type": "code",
   "execution_count": 7,
   "metadata": {
    "collapsed": false
   },
   "outputs": [
    {
     "name": "stdout",
     "output_type": "stream",
     "text": [
      "Length of the dataframe:  39859\n",
      "Top rows of the data\n",
      "   revenue  outcalls  incalls  months  eqpdays  webcap  marryyes  travel  \\\n",
      "0    48.82     10.00      3.0      26      780       0         0       0   \n",
      "1    83.53     20.00      1.0      31      745       1         0       0   \n",
      "2    29.99      0.00      0.0      52     1441       0         0       0   \n",
      "3    51.42      0.00      0.0      36       59       1         0       0   \n",
      "4    37.75      2.67      0.0      25      572       0         0       0   \n",
      "\n",
      "   pcown  creditcd  retcalls  churndep  \n",
      "0      0         1         4         1  \n",
      "1      0         0         4         1  \n",
      "2      1         1         3         1  \n",
      "3      0         0         4         1  \n",
      "4      1         1         3         1  \n",
      "Bottom rows of the data\n",
      "       revenue  outcalls  incalls  months  eqpdays  webcap  marryyes  travel  \\\n",
      "39854   793.05    437.00   519.33      48      406       1         0       0   \n",
      "39855   167.59    141.33   283.67      17       28       1         0       0   \n",
      "39856   151.49    128.67   175.33      47        9       1         1       0   \n",
      "39857   125.42     90.00   336.67      18       79       1         0       0   \n",
      "39858   206.67    396.00   404.00      14      126       1         0       0   \n",
      "\n",
      "       pcown  creditcd  retcalls  churndep  \n",
      "39854      0         0         0         0  \n",
      "39855      0         0         0         0  \n",
      "39856      0         1         0         0  \n",
      "39857      0         0         0         0  \n",
      "39858      0         0         0         0  \n",
      "Transpose of the data \n",
      "               0       1        2      3       4\n",
      "revenue    48.82   83.53    29.99  51.42   37.75\n",
      "outcalls   10.00   20.00     0.00   0.00    2.67\n",
      "incalls     3.00    1.00     0.00   0.00    0.00\n",
      "months     26.00   31.00    52.00  36.00   25.00\n",
      "eqpdays   780.00  745.00  1441.00  59.00  572.00\n",
      "webcap      0.00    1.00     0.00   1.00    0.00\n",
      "marryyes    0.00    0.00     0.00   0.00    0.00\n",
      "travel      0.00    0.00     0.00   0.00    0.00\n",
      "pcown       0.00    0.00     1.00   0.00    1.00\n",
      "creditcd    1.00    0.00     1.00   0.00    1.00\n",
      "retcalls    4.00    4.00     3.00   4.00    3.00\n",
      "churndep    1.00    1.00     1.00   1.00    1.00\n",
      "Columns in the dataframe: \n",
      "['revenue' 'outcalls' 'incalls' 'months' 'eqpdays' 'webcap' 'marryyes'\n",
      " 'travel' 'pcown' 'creditcd' 'retcalls' 'churndep']\n",
      "Column count in the dataframe: \n",
      "outcalls    1\n",
      "creditcd    1\n",
      "webcap      1\n",
      "months      1\n",
      "travel      1\n",
      "churndep    1\n",
      "incalls     1\n",
      "revenue     1\n",
      "eqpdays     1\n",
      "pcown       1\n",
      "retcalls    1\n",
      "marryyes    1\n",
      "dtype: int64\n",
      "Unique values of 'webcap' column: \n",
      "[0 1]\n",
      "Count of 0s and 1s in webcap 1    35692\n",
      "0     4167\n",
      "Name: webcap, dtype: int64\n"
     ]
    }
   ],
   "source": [
    "# Load a file in pandas\n",
    "import pandas as pd\n",
    "\n",
    "data = pd.read_csv(\"C://Users//kumar//OneDrive//Documents//GitHub//DS-GA-1001-IntroToDataScience//Assignments//hw2//data//cell2cell_data.csv\")\n",
    "\n",
    "# Commands to examine the data\n",
    "print \"Length of the dataframe: \", len(data)\n",
    "print \"Top rows of the data\\n\",data.head()\n",
    "print \"Bottom rows of the data\\n\",data.tail()\n",
    "print \"Transpose of the data \\n\", data.head().T\n",
    "print \"Columns in the dataframe: \\n\", data.columns.values\n",
    "print \"Column count in the dataframe: \\n\", data.columns.value_counts()\n",
    "# To check unique values of a column\n",
    "print \"Unique values of 'webcap' column: \\n\", data['webcap'].unique()\n",
    "# to get count of the distinct value the column takes\n",
    "print \"Count of 0s and 1s in webcap\",data['webcap'].value_counts()"
   ]
  },
  {
   "cell_type": "code",
   "execution_count": null,
   "metadata": {
    "collapsed": true
   },
   "outputs": [],
   "source": [
    "# Update certain values in a column conditionallly\n",
    "#http://stackoverflow.com/questions/18196203/how-to-conditionally-update-dataframe-column-in-pandas\n",
    " # http://stackoverflow.com/questions/33680666/creating-a-new-column-in-panda-by-using-lambda-function-on-two-existing-columns   "
   ]
  }
 ],
 "metadata": {
  "kernelspec": {
   "display_name": "Python 2",
   "language": "python",
   "name": "python2"
  },
  "language_info": {
   "codemirror_mode": {
    "name": "ipython",
    "version": 2
   },
   "file_extension": ".py",
   "mimetype": "text/x-python",
   "name": "python",
   "nbconvert_exporter": "python",
   "pygments_lexer": "ipython2",
   "version": "2.7.13"
  }
 },
 "nbformat": 4,
 "nbformat_minor": 2
}
