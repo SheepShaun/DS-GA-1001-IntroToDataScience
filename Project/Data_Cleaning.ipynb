{
 "cells": [
  {
   "cell_type": "code",
   "execution_count": 17,
   "metadata": {
    "collapsed": true
   },
   "outputs": [],
   "source": [
    "sample_file = \"C://Users//kumar//OneDrive//Documents//GitHub//DS-GA-1001-IntroToDataScience//Project//amazon_book_reviews/Donna-Tartt-The-Goldfinch.csv\""
   ]
  },
  {
   "cell_type": "code",
   "execution_count": 18,
   "metadata": {
    "collapsed": false
   },
   "outputs": [
    {
     "name": "stdout",
     "output_type": "stream",
     "text": [
      "22860\n",
      "3.0\n",
      "/gp/customer-reviews/R749USPJIKS0G?ASIN=0316055441\n",
      "Not deserving\n",
      "\"<span class=\"\"a-size-base review-text\"\">What kind of statement about contemporary literature is the Pulitzer committee making? In The Goldfinch they have honored page after repetitive page of alcohol- and drug-induced sloppy, reprehensible characters.  This is no literary masterpiece. No prize winner. I can't help but think that the early hype and publisher's promotion of Donna Tartt's work teaches us more about commerce than about craft.</span>\"\n"
     ]
    }
   ],
   "source": [
    "import pandas as pd\n",
    "data = pd.read_csv(sample_file, sep='\\n')\n",
    "print(len(data))\n",
    "first = data.iloc[10]\n",
    "#print(first) # first is an object [0] gives its content as string\n",
    "print(first[0].split('\\t')[0])  #--first is rating\n",
    "print(first[0].split('\\t')[1])  #--second is Link\n",
    "print(first[0].split('\\t')[2])  #--third is title of the review\n",
    "print(first[0].split('\\t')[3])  #--fourth is the actual review as an HML element"
   ]
  },
  {
   "cell_type": "code",
   "execution_count": 19,
   "metadata": {
    "collapsed": true
   },
   "outputs": [],
   "source": [
    "import numpy as np\n",
    "import pandas as pd\n",
    "import pickle\n",
    "import glob\n",
    "import re"
   ]
  },
  {
   "cell_type": "code",
   "execution_count": 20,
   "metadata": {
    "collapsed": false
   },
   "outputs": [
    {
     "name": "stdout",
     "output_type": "stream",
     "text": [
      "./amazon_book_reviews\\Andy-Weir-The-Martian.csv\n",
      "./amazon_book_reviews\\Donna-Tartt-The-Goldfinch.csv\n",
      "./amazon_book_reviews\\EL-James-Fifty-Shades-of-Grey.csv\n",
      "./amazon_book_reviews\\Fillian_Flynn-Gone_Girl.csv\n",
      "./amazon_book_reviews\\John-Green-The-Fault-in-our-Stars.csv\n",
      "./amazon_book_reviews\\Laura-Hillenbrand-Unbroken.csv\n",
      "./amazon_book_reviews\\Paula_Hawkins-The-Girl-On-The-Train.csv\n",
      "./amazon_book_reviews\\Suzanne-Collins-The-Hunger-Games.csv\n",
      "243269\n"
     ]
    }
   ],
   "source": [
    "# Get reviews from each dataset and append to a single data dataframe\n",
    "df = None\n",
    "for f in glob.glob('./amazon_book_reviews/*.csv'):\n",
    "    print f\n",
    "    if df is not None: \n",
    "        df=df.append(pd.read_csv(f, sep=\"\\t\", error_bad_lines=False, names=['rating', 'link', 'title', 'review'])\n",
    "                     ,ignore_index=True)\n",
    "    else: df= pd.read_csv(f, sep=\"\\t\", error_bad_lines=False, names=['rating', 'link', 'title', 'review'])\n",
    "    len(df)\n",
    "\n",
    "print len(df)"
   ]
  },
  {
   "cell_type": "code",
   "execution_count": 21,
   "metadata": {
    "collapsed": false
   },
   "outputs": [
    {
     "data": {
      "text/plain": [
       "243269"
      ]
     },
     "execution_count": 21,
     "metadata": {},
     "output_type": "execute_result"
    }
   ],
   "source": [
    "# Size down data set for closely sized samples of each class\n",
    "#range(1,6)\n",
    "#print df.describe()\n",
    "#merge_list = []\n",
    "'''\n",
    "for r in range(1,6):\n",
    "    var = df.loc[df['rating'] == r]\n",
    "    if r == 3:\n",
    "        var = var.sample(200)\n",
    "    elif r >= 4:\n",
    "        var = var.sample(200)#\n",
    "\n",
    "    merge_list.append(var)\n",
    "df =  pd.concat(merge_list)\n",
    "print df.review\n",
    "'''\n",
    "len(df['review'])"
   ]
  },
  {
   "cell_type": "code",
   "execution_count": 22,
   "metadata": {
    "collapsed": true
   },
   "outputs": [],
   "source": [
    "# Get rid of HTML tags using HTMLParser\n",
    "from HTMLParser import HTMLParser\n",
    "\n",
    "class MLStripper(HTMLParser):\n",
    "    def __init__(self):\n",
    "        self.reset()\n",
    "        self.fed = []\n",
    "    def handle_data(self, d):\n",
    "        self.fed.append(d)\n",
    "    def get_data(self):\n",
    "        return ''.join(self.fed)\n",
    "\n",
    "def strip_tags(html):\n",
    "    s = MLStripper()\n",
    "    s.feed(html)\n",
    "    return s.get_data()\n",
    "\n",
    "df['review'] = df['review'].apply(strip_tags)"
   ]
  },
  {
   "cell_type": "code",
   "execution_count": 23,
   "metadata": {
    "collapsed": true
   },
   "outputs": [],
   "source": [
    "# Convert to binary classification problem if needed\n",
    "# Adding title\n",
    "# df['review'] += ' ' + df['title']\n",
    "\n",
    "# Create simple classification set, 5 star, 4 star, less than 3 star. \n",
    "#class1 = df.loc[df['rating'] >= 3]\n",
    "#class0 = df.loc[df['rating'] <=2] \n",
    "\n",
    "#class1['rating'] = 1\n",
    "#class0['rating'] = 0\n",
    "\n",
    "#df = pd.concat([class1, class0])"
   ]
  },
  {
   "cell_type": "code",
   "execution_count": 24,
   "metadata": {
    "collapsed": true
   },
   "outputs": [],
   "source": [
    "# Shuffle and split into train and test dataset\n",
    "shuff_df = df.sample(frac=1)\n",
    "cut = int(len(shuff_df)*3/4)\n",
    "train_df = shuff_df[:cut]\n",
    "test_df = shuff_df[cut:]\n",
    "amazonbook = {'train': train_df, 'test': test_df}\n",
    "with open('amazonbook.p', 'wb') as f:\n",
    "    pickle.dump(amazonbook, f)"
   ]
  },
  {
   "cell_type": "code",
   "execution_count": null,
   "metadata": {
    "collapsed": true
   },
   "outputs": [],
   "source": []
  }
 ],
 "metadata": {
  "kernelspec": {
   "display_name": "Python 2",
   "language": "python",
   "name": "python2"
  },
  "language_info": {
   "codemirror_mode": {
    "name": "ipython",
    "version": 2
   },
   "file_extension": ".py",
   "mimetype": "text/x-python",
   "name": "python",
   "nbconvert_exporter": "python",
   "pygments_lexer": "ipython2",
   "version": "2.7.13"
  }
 },
 "nbformat": 4,
 "nbformat_minor": 2
}
