{
 "cells": [
  {
   "cell_type": "markdown",
   "metadata": {},
   "source": [
    "# Introduction to Data Science\n",
    "## Homework 4: Due printed out in Kevin's Mailbox 5pm May 1st\n",
    "## This assignment is OPTIONAL!! If you do it, your HW grade will be the average of all 4"
   ]
  },
  {
   "cell_type": "markdown",
   "metadata": {},
   "source": [
    "Student Name: Roshan Kumar \n",
    "\n",
    "Student Netid: rk3110\n",
    "***"
   ]
  },
  {
   "cell_type": "markdown",
   "metadata": {},
   "source": [
    "### Part 1: Naive Bayes"
   ]
  },
  {
   "cell_type": "markdown",
   "metadata": {},
   "source": [
    "1\\. From your reading you know that the naive Bayes classifier works by calculating the conditional probabilities of each feature, $e_i$, occuring with each class $c$ and treating them independently. This results in the probability of a certain class occuring given a set of features, or a piece of evidence, $E$, as\n",
    "\n",
    "$$P(c \\mid E) = \\frac{p(e_1 \\mid c) \\cdot p(e_2 \\mid c) \\cdot \\cdot \\cdot p(e_k \\mid c) \\cdot p(c)}{p(E)}.$$\n",
    "\n",
    "The conditional probability of each piece of evidence occuring with a given class is given by\n",
    "\n",
    "$$P(e_i \\mid c) = \\frac{\\text{count}(e_i, c)}{\\text{count}(c)}.$$\n",
    "\n",
    "In the above equation $\\text{count}(e_i, c)$ is the number of documents in a given class that contain feature $e_i$ and $\\text{count}(c)$ is the number of documents that belong to class $c$. \n",
    "\n",
    "A common variation of the above is to use Laplace (sometimes called +1) smoothing. Recall the use of Laplace smoothing introduced toward the end of Chapter 3 in the section Probability Estimation. This is done in sklearn by setting `alpha=1` in the `BernoulliNB()` function (this is also the default behavior). The result of Laplace smoothing will slightly change the conditional probabilities,\n",
    "\n",
    "$$P(e_i \\mid c) = \\frac{\\text{count}(e_i, c) + 1}{\\text{count}(c) + 2}.$$\n",
    "\n",
    "In no more than **one paragraph**, describe why this is useful. Try to think of a case when not using Laplace smoothing would result in \"bad\" models. Try to give an example. Be precise."
   ]
  },
  {
   "cell_type": "markdown",
   "metadata": {},
   "source": [
    "###### Answer\n",
    "Laplace smoothing helps in case there is a word in test document which is not present in training documents. In such a case the probability of that document being in any class becomes 0(impossible). We avoid laplace smoothing to avoid such situations."
   ]
  },
  {
   "cell_type": "markdown",
   "metadata": {},
   "source": [
    "### Part 2: Text classification for sentiment analysis\n",
    "For this part of the assignment, we are going to use a data set of movie ratings from IMDB.com. The data consists of the text of a movie review and a target variable which tells us whether the reviewer had a positive feeling towards the movie (equivalent to rating the movie between 7 and 10) or a negative feeling (rating the movie between 1 and 4). Neutral reactions are not included in the data.\n",
    "\n",
    "The data are located in \"`data/imdb.csv`\". The first column is the review text; the second is the text label 'P' for positive or 'N' for negative."
   ]
  },
  {
   "cell_type": "markdown",
   "metadata": {},
   "source": [
    "1\\. Load the data into a pandas `DataFrame()`."
   ]
  },
  {
   "cell_type": "code",
   "execution_count": 1,
   "metadata": {
    "collapsed": false
   },
   "outputs": [
    {
     "data": {
      "text/html": [
       "<div>\n",
       "<table border=\"1\" class=\"dataframe\">\n",
       "  <thead>\n",
       "    <tr style=\"text-align: right;\">\n",
       "      <th></th>\n",
       "      <th>Text</th>\n",
       "      <th>Class</th>\n",
       "    </tr>\n",
       "  </thead>\n",
       "  <tbody>\n",
       "    <tr>\n",
       "      <th>0</th>\n",
       "      <td>'One of the first of the best musicals Anchors...</td>\n",
       "      <td>P</td>\n",
       "    </tr>\n",
       "    <tr>\n",
       "      <th>1</th>\n",
       "      <td>'Visually disjointed and full of itself the di...</td>\n",
       "      <td>N</td>\n",
       "    </tr>\n",
       "    <tr>\n",
       "      <th>2</th>\n",
       "      <td>'These type of movies about young teenagers st...</td>\n",
       "      <td>P</td>\n",
       "    </tr>\n",
       "    <tr>\n",
       "      <th>3</th>\n",
       "      <td>'I would rather of had my eyes gouged out with...</td>\n",
       "      <td>N</td>\n",
       "    </tr>\n",
       "    <tr>\n",
       "      <th>4</th>\n",
       "      <td>'The title says it all. Tail Gunner Joe was a ...</td>\n",
       "      <td>N</td>\n",
       "    </tr>\n",
       "  </tbody>\n",
       "</table>\n",
       "</div>"
      ],
      "text/plain": [
       "                                                Text Class\n",
       "0  'One of the first of the best musicals Anchors...     P\n",
       "1  'Visually disjointed and full of itself the di...     N\n",
       "2  'These type of movies about young teenagers st...     P\n",
       "3  'I would rather of had my eyes gouged out with...     N\n",
       "4  'The title says it all. Tail Gunner Joe was a ...     N"
      ]
     },
     "execution_count": 1,
     "metadata": {},
     "output_type": "execute_result"
    }
   ],
   "source": [
    "import pandas as pd\n",
    "data = pd.read_csv('data/imdb.csv')\n",
    "\n",
    "# sample data\n",
    "data.head()"
   ]
  },
  {
   "cell_type": "markdown",
   "metadata": {},
   "source": [
    "2\\. Code the target variable to be numeric: use the value `1` to represent 'P' and `0` to represent 'N'."
   ]
  },
  {
   "cell_type": "code",
   "execution_count": 2,
   "metadata": {
    "collapsed": false
   },
   "outputs": [
    {
     "data": {
      "text/html": [
       "<div>\n",
       "<table border=\"1\" class=\"dataframe\">\n",
       "  <thead>\n",
       "    <tr style=\"text-align: right;\">\n",
       "      <th></th>\n",
       "      <th>Text</th>\n",
       "      <th>Class</th>\n",
       "    </tr>\n",
       "  </thead>\n",
       "  <tbody>\n",
       "    <tr>\n",
       "      <th>0</th>\n",
       "      <td>'One of the first of the best musicals Anchors...</td>\n",
       "      <td>1</td>\n",
       "    </tr>\n",
       "    <tr>\n",
       "      <th>1</th>\n",
       "      <td>'Visually disjointed and full of itself the di...</td>\n",
       "      <td>0</td>\n",
       "    </tr>\n",
       "    <tr>\n",
       "      <th>2</th>\n",
       "      <td>'These type of movies about young teenagers st...</td>\n",
       "      <td>1</td>\n",
       "    </tr>\n",
       "    <tr>\n",
       "      <th>3</th>\n",
       "      <td>'I would rather of had my eyes gouged out with...</td>\n",
       "      <td>0</td>\n",
       "    </tr>\n",
       "    <tr>\n",
       "      <th>4</th>\n",
       "      <td>'The title says it all. Tail Gunner Joe was a ...</td>\n",
       "      <td>0</td>\n",
       "    </tr>\n",
       "  </tbody>\n",
       "</table>\n",
       "</div>"
      ],
      "text/plain": [
       "                                                Text  Class\n",
       "0  'One of the first of the best musicals Anchors...      1\n",
       "1  'Visually disjointed and full of itself the di...      0\n",
       "2  'These type of movies about young teenagers st...      1\n",
       "3  'I would rather of had my eyes gouged out with...      0\n",
       "4  'The title says it all. Tail Gunner Joe was a ...      0"
      ]
     },
     "execution_count": 2,
     "metadata": {},
     "output_type": "execute_result"
    }
   ],
   "source": [
    "# Code here\n",
    "data['Class'] = data.apply(lambda x: 1 if x['Class']=='P' else 0, axis=1)\n",
    "data.head()"
   ]
  },
  {
   "cell_type": "markdown",
   "metadata": {},
   "source": [
    "3\\. Put all of the text into a data frame called `X` and the target variable in a data frame called `Y`. Make a train/test split where you give 75% of the data to training."
   ]
  },
  {
   "cell_type": "code",
   "execution_count": 3,
   "metadata": {
    "collapsed": false
   },
   "outputs": [
    {
     "name": "stdout",
     "output_type": "stream",
     "text": [
      "<class 'pandas.core.series.Series'>\n",
      "(8500L,)\n",
      "(8500L,)\n",
      "(6375L,)\n",
      "(2125L,)\n",
      "(6375L,)\n",
      "(2125L,)\n"
     ]
    },
    {
     "name": "stderr",
     "output_type": "stream",
     "text": [
      "C:\\Users\\kumar\\Anaconda3\\lib\\site-packages\\sklearn\\cross_validation.py:44: DeprecationWarning: This module was deprecated in version 0.18 in favor of the model_selection module into which all the refactored classes and functions are moved. Also note that the interface of the new CV iterators are different from that of this module. This module will be removed in 0.20.\n",
      "  \"This module will be removed in 0.20.\", DeprecationWarning)\n"
     ]
    }
   ],
   "source": [
    "from sklearn.cross_validation import train_test_split\n",
    "\n",
    "X = data['Text']\n",
    "Y = data['Class']\n",
    "print type(X)\n",
    "print X.shape\n",
    "print Y.shape\n",
    "\n",
    "# Make the split\n",
    "X_train, X_test, Y_train, Y_test = train_test_split(X, Y)\n",
    "print X_train.shape\n",
    "print X_test.shape\n",
    "print Y_train.shape\n",
    "print Y_test.shape"
   ]
  },
  {
   "cell_type": "markdown",
   "metadata": {},
   "source": [
    "4\\. Create a binary `CountVectorizer()` and `TfidfVectorizer()`. Use the original single words as well as bigrams. Also, use an \"english\" stop word list. Fit these to the training data to extract a vocabulary and then transform both the train and test data."
   ]
  },
  {
   "cell_type": "code",
   "execution_count": 21,
   "metadata": {
    "collapsed": false
   },
   "outputs": [
    {
     "data": {
      "text/plain": [
       "(6375, 569884)"
      ]
     },
     "execution_count": 21,
     "metadata": {},
     "output_type": "execute_result"
    }
   ],
   "source": [
    "from sklearn.feature_extraction.text import CountVectorizer\n",
    "from sklearn.feature_extraction.text import TfidfVectorizer\n",
    "\n",
    "binary_vectorizer = CountVectorizer(binary=True,stop_words='english',ngram_range=(1,2))\n",
    "X_train_binary = binary_vectorizer.fit_transform(X_train)\n",
    "X_test_binary = binary_vectorizer.transform(X_test)\n",
    "\n",
    "tfidf_vectorizer = TfidfVectorizer(stop_words='english',ngram_range=(1,2))\n",
    "X_train_tfidf = tfidf_vectorizer.fit_transform(X_train)\n",
    "X_test_tfidf = tfidf_vectorizer.transform(X_test)\n",
    "X_train_binary.shape"
   ]
  },
  {
   "cell_type": "markdown",
   "metadata": {},
   "source": [
    "4\\. Create `LogisticRegression()` and `BernoulliNB()` models. For all settings, keep the default values. In a single plot, show the AUC curve for both classifiers and both the binary and tfidf feature sets. In the legend, include the area under the ROC curve (AUC). Do not forget to label your axes. Your final plot will be a single window with 4 curves.\n",
    "\n",
    "Which model do you think does a better job? Why? Explain in no more than a paragraph."
   ]
  },
  {
   "cell_type": "code",
   "execution_count": 22,
   "metadata": {
    "collapsed": false
   },
   "outputs": [],
   "source": [
    "# Run this so your plots show properly\n",
    "import matplotlib.pyplot as plt\n",
    "%matplotlib inline\n",
    "plt.rcParams['figure.figsize'] = 12, 12"
   ]
  },
  {
   "cell_type": "code",
   "execution_count": 23,
   "metadata": {
    "collapsed": false
   },
   "outputs": [
    {
     "data": {
      "text/plain": [
       "<matplotlib.legend.Legend at 0x272d7c18>"
      ]
     },
     "execution_count": 23,
     "metadata": {},
     "output_type": "execute_result"
    },
    {
     "data": {
      "image/png": "[encoded data removed]",
      "text/plain": [
       "<matplotlib.figure.Figure at 0x185651d0>"
      ]
     },
     "metadata": {},
     "output_type": "display_data"
    }
   ],
   "source": [
    "from sklearn.linear_model import LogisticRegression\n",
    "from sklearn.naive_bayes import BernoulliNB\n",
    "from sklearn import metrics\n",
    "import numpy as np\n",
    "\n",
    "# Code here\n",
    "plt.xlabel(\"False Positive Rate\")\n",
    "plt.ylabel(\"True Positive Rate\")\n",
    "plt.title(\"Area under ROC Curve\")\n",
    "# LogisticRegression\n",
    "clf = LogisticRegression()\n",
    "for train,test,feature_type in [(X_train_binary, X_test_binary, 'binary'), (X_train_tfidf, X_test_tfidf, 'tfidf')]:\n",
    "    clf.fit(train, Y_train)\n",
    "    # get probability of 1s\n",
    "    predictions = clf.predict_proba(test)[:,1]\n",
    "    fpr, tpr, threshold = metrics.roc_curve(Y_test, predictions)\n",
    "    score = metrics.roc_auc_score(Y_test, predictions)\n",
    "    c = (np.random.rand(), np.random.rand(), np.random.rand())\n",
    "    plt.plot(fpr, tpr, color=c, label=\"Logistic Regression on \" + feature_type + \" feature set, auc: \"+ str(score))\n",
    "\n",
    "clf = BernoulliNB()\n",
    "for train, test, feature_type in [(X_train_binary, X_test_binary, 'binary'), (X_train_tfidf, X_test_tfidf, 'tfidf')]:\n",
    "    clf.fit(train, Y_train)\n",
    "    # get probability of 1s\n",
    "    predictions = clf.predict_proba(test)[:,1]\n",
    "    fpr, tpr, threshold = metrics.roc_curve(Y_test, predictions)\n",
    "    score = metrics.roc_auc_score(Y_test, predictions)\n",
    "    c = (np.random.rand(), np.random.rand(), np.random.rand())\n",
    "    plt.plot(fpr, tpr, color=c, label=\"BernoulliNB on \" + feature_type + \" feature set, auc: \"+ str(score))\n",
    "\n",
    "plt.legend(loc=\"lower right\")"
   ]
  },
  {
   "cell_type": "markdown",
   "metadata": {},
   "source": [
    "###### Answer:\n",
    "Clearly, Logistic Regression on tfidf feature set does the best since it has highest auc socre. Logistic regression performs better than BernoulliNB since Naive bayes assumes that the fearures(words here) are independent of each other. However the words do not appear independently but the word being used depends on context and the previous words. Hence Bernoulli performs poorly. "
   ]
  },
  {
   "cell_type": "markdown",
   "metadata": {
    "collapsed": true
   },
   "source": [
    "5\\. Use the model from question 4 that you think did the best job and predict the rating of the test data. Find 5 examples the should have been positive, but were incorrectly classified as negative. List the text below and include an explanation as to why you think it may have been incorrectly classified. You can pick any 5. They do not have to be at random."
   ]
  },
  {
   "cell_type": "code",
   "execution_count": 25,
   "metadata": {
    "collapsed": false
   },
   "outputs": [
    {
     "name": "stdout",
     "output_type": "stream",
     "text": [
      "4585    False\n",
      "6167    False\n",
      "1408    False\n",
      "5123    False\n",
      "5757    False\n",
      "7940    False\n",
      "5393    False\n",
      "6440    False\n",
      "7874    False\n",
      "3311    False\n",
      "6082    False\n",
      "1527    False\n",
      "5461     True\n",
      "3568     True\n",
      "696     False\n",
      "6465    False\n",
      "1447    False\n",
      "7254    False\n",
      "3562    False\n",
      "1085    False\n",
      "5707    False\n",
      "7772     True\n",
      "8176     True\n",
      "1397    False\n",
      "1240     True\n",
      "6132    False\n",
      "3383     True\n",
      "1465    False\n",
      "13      False\n",
      "1944    False\n",
      "        ...  \n",
      "3463    False\n",
      "2240    False\n",
      "1649    False\n",
      "5201     True\n",
      "3416    False\n",
      "8432    False\n",
      "673     False\n",
      "1882    False\n",
      "7144    False\n",
      "1494    False\n",
      "473      True\n",
      "4096    False\n",
      "7172    False\n",
      "2373    False\n",
      "4881    False\n",
      "3264    False\n",
      "285     False\n",
      "5874    False\n",
      "4682     True\n",
      "7369    False\n",
      "6586     True\n",
      "4516    False\n",
      "455     False\n",
      "4297     True\n",
      "115     False\n",
      "1350    False\n",
      "6645    False\n",
      "3795    False\n",
      "70      False\n",
      "4288    False\n",
      "Name: Class, dtype: bool\n"
     ]
    }
   ],
   "source": [
    "# Code here to display 5 incorrect reviews.\n",
    "clf = LogisticRegression()\n",
    "clf.fit(X_train_tfidf, Y_train)\n",
    "#predictions = clf.predict(X_train_tfidf)\n",
    "\n",
    "# Code here to display 5 incorrect reviews.\n",
    "a=clf.predict(X_test_tfidf)!=Y_test\n",
    "#a\n",
    "print a\n",
    "b=a[a==True].index[0:5]\n",
    "#b\n",
    "\n",
    "#for i in range(len(b)):\n",
    "    #print(\"Real class is {0}\\n.Review is{1}\".format(Y_test[b[i]], X_test[b[i]]))"
   ]
  },
  {
   "cell_type": "markdown",
   "metadata": {},
   "source": [
    "###### Answer\n",
    "Clearly, some of the wrong predcitions.\n",
    "In case of first wrong prediction, the reviwer uses a lot of words with positive connotation such as \"Love\", \"overwhelmingly positive reactions\", \"positive uplifting messages\" and so on but the overlall rating is negative. Hence the review tricked the classifier.\n"
   ]
  },
  {
   "cell_type": "code",
   "execution_count": null,
   "metadata": {
    "collapsed": true
   },
   "outputs": [],
   "source": []
  }
 ],
 "metadata": {
  "kernelspec": {
   "display_name": "Python 2",
   "language": "python",
   "name": "python2"
  },
  "language_info": {
   "codemirror_mode": {
    "name": "ipython",
    "version": 2
   },
   "file_extension": ".py",
   "mimetype": "text/x-python",
   "name": "python",
   "nbconvert_exporter": "python",
   "pygments_lexer": "ipython2",
   "version": "2.7.13"
  }
 },
 "nbformat": 4,
 "nbformat_minor": 0
}
