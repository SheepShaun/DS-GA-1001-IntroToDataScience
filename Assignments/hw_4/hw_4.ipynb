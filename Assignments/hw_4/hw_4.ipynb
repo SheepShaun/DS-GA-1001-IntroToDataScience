{
 "cells": [
  {
   "cell_type": "markdown",
   "metadata": {},
   "source": [
    "# Introduction to Data Science\n",
    "## Homework 4: Due printed out in Kevin's Mailbox 5pm May 1st\n",
    "## This assignment is OPTIONAL!! If you do it, your HW grade will be the average of all 4"
   ]
  },
  {
   "cell_type": "markdown",
   "metadata": {},
   "source": [
    "Student Name: Roshan Kumar \n",
    "\n",
    "Student Netid: rk3110\n",
    "***"
   ]
  },
  {
   "cell_type": "markdown",
   "metadata": {},
   "source": [
    "### Part 1: Naive Bayes"
   ]
  },
  {
   "cell_type": "markdown",
   "metadata": {},
   "source": [
    "1\\. From your reading you know that the naive Bayes classifier works by calculating the conditional probabilities of each feature, $e_i$, occuring with each class $c$ and treating them independently. This results in the probability of a certain class occuring given a set of features, or a piece of evidence, $E$, as\n",
    "\n",
    "$$P(c \\mid E) = \\frac{p(e_1 \\mid c) \\cdot p(e_2 \\mid c) \\cdot \\cdot \\cdot p(e_k \\mid c) \\cdot p(c)}{p(E)}.$$\n",
    "\n",
    "The conditional probability of each piece of evidence occuring with a given class is given by\n",
    "\n",
    "$$P(e_i \\mid c) = \\frac{\\text{count}(e_i, c)}{\\text{count}(c)}.$$\n",
    "\n",
    "In the above equation $\\text{count}(e_i, c)$ is the number of documents in a given class that contain feature $e_i$ and $\\text{count}(c)$ is the number of documents that belong to class $c$. \n",
    "\n",
    "A common variation of the above is to use Laplace (sometimes called +1) smoothing. Recall the use of Laplace smoothing introduced toward the end of Chapter 3 in the section Probability Estimation. This is done in sklearn by setting `alpha=1` in the `BernoulliNB()` function (this is also the default behavior). The result of Laplace smoothing will slightly change the conditional probabilities,\n",
    "\n",
    "$$P(e_i \\mid c) = \\frac{\\text{count}(e_i, c) + 1}{\\text{count}(c) + 2}.$$\n",
    "\n",
    "In no more than **one paragraph**, describe why this is useful. Try to think of a case when not using Laplace smoothing would result in \"bad\" models. Try to give an example. Be precise."
   ]
  },
  {
   "cell_type": "markdown",
   "metadata": {},
   "source": [
    "###### Answer\n",
    "Laplace smoothing helps in case there is a word in test document which is not present in training documents. In such a case the probability of that document being in any class becomes 0(impossible). We avoid laplace smoothing to avoid such situations."
   ]
  },
  {
   "cell_type": "markdown",
   "metadata": {},
   "source": [
    "### Part 2: Text classification for sentiment analysis\n",
    "For this part of the assignment, we are going to use a data set of movie ratings from IMDB.com. The data consists of the text of a movie review and a target variable which tells us whether the reviewer had a positive feeling towards the movie (equivalent to rating the movie between 7 and 10) or a negative feeling (rating the movie between 1 and 4). Neutral reactions are not included in the data.\n",
    "\n",
    "The data are located in \"`data/imdb.csv`\". The first column is the review text; the second is the text label 'P' for positive or 'N' for negative."
   ]
  },
  {
   "cell_type": "markdown",
   "metadata": {},
   "source": [
    "1\\. Load the data into a pandas `DataFrame()`."
   ]
  },
  {
   "cell_type": "code",
   "execution_count": 1,
   "metadata": {
    "collapsed": false
   },
   "outputs": [
    {
     "data": {
      "text/html": [
       "<div>\n",
       "<table border=\"1\" class=\"dataframe\">\n",
       "  <thead>\n",
       "    <tr style=\"text-align: right;\">\n",
       "      <th></th>\n",
       "      <th>Text</th>\n",
       "      <th>Class</th>\n",
       "    </tr>\n",
       "  </thead>\n",
       "  <tbody>\n",
       "    <tr>\n",
       "      <th>0</th>\n",
       "      <td>'One of the first of the best musicals Anchors...</td>\n",
       "      <td>P</td>\n",
       "    </tr>\n",
       "    <tr>\n",
       "      <th>1</th>\n",
       "      <td>'Visually disjointed and full of itself the di...</td>\n",
       "      <td>N</td>\n",
       "    </tr>\n",
       "    <tr>\n",
       "      <th>2</th>\n",
       "      <td>'These type of movies about young teenagers st...</td>\n",
       "      <td>P</td>\n",
       "    </tr>\n",
       "    <tr>\n",
       "      <th>3</th>\n",
       "      <td>'I would rather of had my eyes gouged out with...</td>\n",
       "      <td>N</td>\n",
       "    </tr>\n",
       "    <tr>\n",
       "      <th>4</th>\n",
       "      <td>'The title says it all. Tail Gunner Joe was a ...</td>\n",
       "      <td>N</td>\n",
       "    </tr>\n",
       "  </tbody>\n",
       "</table>\n",
       "</div>"
      ],
      "text/plain": [
       "                                                Text Class\n",
       "0  'One of the first of the best musicals Anchors...     P\n",
       "1  'Visually disjointed and full of itself the di...     N\n",
       "2  'These type of movies about young teenagers st...     P\n",
       "3  'I would rather of had my eyes gouged out with...     N\n",
       "4  'The title says it all. Tail Gunner Joe was a ...     N"
      ]
     },
     "execution_count": 1,
     "metadata": {},
     "output_type": "execute_result"
    }
   ],
   "source": [
    "import pandas as pd\n",
    "data = pd.read_csv('data/imdb.csv')\n",
    "\n",
    "# sample data\n",
    "data.head()"
   ]
  },
  {
   "cell_type": "markdown",
   "metadata": {},
   "source": [
    "2\\. Code the target variable to be numeric: use the value `1` to represent 'P' and `0` to represent 'N'."
   ]
  },
  {
   "cell_type": "code",
   "execution_count": 2,
   "metadata": {
    "collapsed": false
   },
   "outputs": [
    {
     "data": {
      "text/html": [
       "<div>\n",
       "<table border=\"1\" class=\"dataframe\">\n",
       "  <thead>\n",
       "    <tr style=\"text-align: right;\">\n",
       "      <th></th>\n",
       "      <th>Text</th>\n",
       "      <th>Class</th>\n",
       "    </tr>\n",
       "  </thead>\n",
       "  <tbody>\n",
       "    <tr>\n",
       "      <th>0</th>\n",
       "      <td>'One of the first of the best musicals Anchors...</td>\n",
       "      <td>1</td>\n",
       "    </tr>\n",
       "    <tr>\n",
       "      <th>1</th>\n",
       "      <td>'Visually disjointed and full of itself the di...</td>\n",
       "      <td>0</td>\n",
       "    </tr>\n",
       "    <tr>\n",
       "      <th>2</th>\n",
       "      <td>'These type of movies about young teenagers st...</td>\n",
       "      <td>1</td>\n",
       "    </tr>\n",
       "    <tr>\n",
       "      <th>3</th>\n",
       "      <td>'I would rather of had my eyes gouged out with...</td>\n",
       "      <td>0</td>\n",
       "    </tr>\n",
       "    <tr>\n",
       "      <th>4</th>\n",
       "      <td>'The title says it all. Tail Gunner Joe was a ...</td>\n",
       "      <td>0</td>\n",
       "    </tr>\n",
       "  </tbody>\n",
       "</table>\n",
       "</div>"
      ],
      "text/plain": [
       "                                                Text  Class\n",
       "0  'One of the first of the best musicals Anchors...      1\n",
       "1  'Visually disjointed and full of itself the di...      0\n",
       "2  'These type of movies about young teenagers st...      1\n",
       "3  'I would rather of had my eyes gouged out with...      0\n",
       "4  'The title says it all. Tail Gunner Joe was a ...      0"
      ]
     },
     "execution_count": 2,
     "metadata": {},
     "output_type": "execute_result"
    }
   ],
   "source": [
    "# Code here\n",
    "data['Class'] = data.apply(lambda x: 1 if x['Class']=='P' else 0, axis=1)\n",
    "data.head()"
   ]
  },
  {
   "cell_type": "markdown",
   "metadata": {},
   "source": [
    "3\\. Put all of the text into a data frame called `X` and the target variable in a data frame called `Y`. Make a train/test split where you give 75% of the data to training."
   ]
  },
  {
   "cell_type": "code",
   "execution_count": 3,
   "metadata": {
    "collapsed": false
   },
   "outputs": [
    {
     "name": "stdout",
     "output_type": "stream",
     "text": [
      "<class 'pandas.core.series.Series'>\n",
      "(8500L,)\n",
      "(8500L,)\n"
     ]
    },
    {
     "name": "stderr",
     "output_type": "stream",
     "text": [
      "C:\\Users\\kumar\\Anaconda3\\lib\\site-packages\\sklearn\\cross_validation.py:44: DeprecationWarning: This module was deprecated in version 0.18 in favor of the model_selection module into which all the refactored classes and functions are moved. Also note that the interface of the new CV iterators are different from that of this module. This module will be removed in 0.20.\n",
      "  \"This module will be removed in 0.20.\", DeprecationWarning)\n"
     ]
    }
   ],
   "source": [
    "from sklearn.cross_validation import train_test_split\n",
    "\n",
    "X = data['Text']\n",
    "Y = data['Class']\n",
    "print type(X)\n",
    "print X.shape\n",
    "print Y.shape\n",
    "\n",
    "# Make the split\n",
    "X_train, X_test, Y_train, Y_test = train_test_split(X, Y)"
   ]
  },
  {
   "cell_type": "markdown",
   "metadata": {},
   "source": [
    "4\\. Create a binary `CountVectorizer()` and `TfidfVectorizer()`. Use the original single words as well as bigrams. Also, use an \"english\" stop word list. Fit these to the training data to extract a vocabulary and then transform both the train and test data."
   ]
  },
  {
   "cell_type": "code",
   "execution_count": 4,
   "metadata": {
    "collapsed": false
   },
   "outputs": [
    {
     "data": {
      "text/plain": [
       "(6375, 571987)"
      ]
     },
     "execution_count": 4,
     "metadata": {},
     "output_type": "execute_result"
    }
   ],
   "source": [
    "from sklearn.feature_extraction.text import CountVectorizer\n",
    "from sklearn.feature_extraction.text import TfidfVectorizer\n",
    "\n",
    "binary_vectorizer = CountVectorizer(binary=True,stop_words='english',ngram_range=(1,2))\n",
    "X_train_binary = binary_vectorizer.fit_transform(X_train)\n",
    "X_test_binary = binary_vectorizer.transform(X_test)\n",
    "\n",
    "tfidf_vectorizer = TfidfVectorizer(stop_words='english',ngram_range=(1,2))\n",
    "X_train_tfidf = tfidf_vectorizer.fit_transform(X_train)\n",
    "X_test_tfidf = tfidf_vectorizer.transform(X_test)\n",
    "X_train_binary.shape"
   ]
  },
  {
   "cell_type": "markdown",
   "metadata": {},
   "source": [
    "4\\. Create `LogisticRegression()` and `BernoulliNB()` models. For all settings, keep the default values. In a single plot, show the AUC curve for both classifiers and both the binary and tfidf feature sets. In the legend, include the area under the ROC curve (AUC). Do not forget to label your axes. Your final plot will be a single window with 4 curves.\n",
    "\n",
    "Which model do you think does a better job? Why? Explain in no more than a paragraph."
   ]
  },
  {
   "cell_type": "code",
   "execution_count": 5,
   "metadata": {
    "collapsed": false
   },
   "outputs": [],
   "source": [
    "# Run this so your plots show properly\n",
    "import matplotlib.pyplot as plt\n",
    "%matplotlib inline\n",
    "plt.rcParams['figure.figsize'] = 12, 12"
   ]
  },
  {
   "cell_type": "code",
   "execution_count": 6,
   "metadata": {
    "collapsed": false
   },
   "outputs": [
    {
     "data": {
      "text/plain": [
       "<matplotlib.legend.Legend at 0x1c6da6d8>"
      ]
     },
     "execution_count": 6,
     "metadata": {},
     "output_type": "execute_result"
    },
    {
     "data": {
      "image/png": "[encoded data removed]",
      "text/plain": [
       "<matplotlib.figure.Figure at 0x1c0e6630>"
      ]
     },
     "metadata": {},
     "output_type": "display_data"
    }
   ],
   "source": [
    "from sklearn.linear_model import LogisticRegression\n",
    "from sklearn.naive_bayes import BernoulliNB\n",
    "from sklearn import metrics\n",
    "import numpy as np\n",
    "\n",
    "# Code here\n",
    "plt.xlabel(\"False Positive Rate\")\n",
    "plt.ylabel(\"True Positive Rate\")\n",
    "plt.title(\"Area under ROC Curve\")\n",
    "# LogisticRegression\n",
    "clf = LogisticRegression()\n",
    "for train,test,feature_type in [(X_train_binary, X_test_binary, 'binary'), (X_train_tfidf, X_test_tfidf, 'tfidf')]:\n",
    "    clf.fit(train, Y_train)\n",
    "    # get probability of 1s\n",
    "    predictions = clf.predict_proba(test)[:,1]\n",
    "    fpr, tpr, threshold = metrics.roc_curve(Y_test, predictions)\n",
    "    score = metrics.roc_auc_score(Y_test, predictions)\n",
    "    c = (np.random.rand(), np.random.rand(), np.random.rand())\n",
    "    plt.plot(fpr, tpr, color=c, label=\"Logistic Regression on \" + feature_type + \" feature set, auc: \"+ str(score))\n",
    "\n",
    "clf = BernoulliNB()\n",
    "for train, test, feature_type in [(X_train_binary, X_test_binary, 'binary'), (X_train_tfidf, X_test_tfidf, 'tfidf')]:\n",
    "    clf.fit(train, Y_train)\n",
    "    # get probability of 1s\n",
    "    predictions = clf.predict_proba(test)[:,1]\n",
    "    fpr, tpr, threshold = metrics.roc_curve(Y_test, predictions)\n",
    "    score = metrics.roc_auc_score(Y_test, predictions)\n",
    "    c = (np.random.rand(), np.random.rand(), np.random.rand())\n",
    "    plt.plot(fpr, tpr, color=c, label=\"BernoulliNB on \" + feature_type + \" feature set, auc: \"+ str(score))\n",
    "\n",
    "plt.legend(loc=\"lower right\")"
   ]
  },
  {
   "cell_type": "markdown",
   "metadata": {},
   "source": [
    "###### Answer:\n",
    "Clearly, Logistic Regression on binary feature set does the best since it has highest auc socre. Logistic regression performs better than BernoulliNB since Naive bayes assumes that the fearures(words here) are independent of each other. However the words do not appear independently but the word being used depends on context and the previous words. Hence Bernoulli performs poorly. "
   ]
  },
  {
   "cell_type": "markdown",
   "metadata": {
    "collapsed": true
   },
   "source": [
    "5\\. Use the model from question 4 that you think did the best job and predict the rating of the test data. Find 5 examples the should have been positive, but were incorrectly classified as negative. List the text below and include an explanation as to why you think it may have been incorrectly classified. You can pick any 5. They do not have to be at random."
   ]
  },
  {
   "cell_type": "code",
   "execution_count": 7,
   "metadata": {
    "collapsed": false
   },
   "outputs": [
    {
     "data": {
      "text/plain": [
       "LogisticRegression(C=1.0, class_weight=None, dual=False, fit_intercept=True,\n",
       "          intercept_scaling=1, max_iter=100, multi_class='ovr', n_jobs=1,\n",
       "          penalty='l2', random_state=None, solver='liblinear', tol=0.0001,\n",
       "          verbose=0, warm_start=False)"
      ]
     },
     "execution_count": 7,
     "metadata": {},
     "output_type": "execute_result"
    }
   ],
   "source": [
    "# Code here to display 5 incorrect reviews.\n",
    "clf = LogisticRegression()\n",
    "clf.fit(X_train_binary, Y_train)\n"
   ]
  },
  {
   "cell_type": "code",
   "execution_count": 8,
   "metadata": {
    "collapsed": false
   },
   "outputs": [
    {
     "name": "stdout",
     "output_type": "stream",
     "text": [
      "review: \n",
      "'An unusually straight-faced actioner played by a cast and filmed by a director who obviously took the material seriously. Imperfect as is to be expected from a film clearly shot on a tight budget but the drama is involving-- its one of those films that when it gets repeated ad nauseum on Cinemax 2 or More Max or whatever they call it you end up watching 40 minute blocks when youre supposed to be going to work. Along W/ Deathstalker 2 Chopping Mall and The Assault a reminder that Wynorski is a much more talented director than many of his fellow low-budget brethern who has a real ability to pace a genre film when he actuallys interested in the material (i.e. dont bother watching any of his Shannon Tweed flicks with a 3 or a 4 after the title!) Actors whove had too little to do recently (Mancuso Ford even Gary Sandy for chrissakes) really put their all into some of their best roles in years -- as for Grieco he has the right look although his acting is a bit one-note -- its clear his character is supposed to be self-destructing throughout the film but Grieco doesnt quite convey it. I checked IMDB and I see the writer also wrote Sorority House Massacre 2 & Dinosaur Island for the director -- both minor classics in their own rights but obviously silly Roger Cormon-like Cinema -- this ones more like some of the better Jonathan Demme and Jonathan Kaplan B-pictures of the 70s -- giving you the exploitation element but offering involving drama at the same time -- a real step forward. Not Citizen Kane and the comic final moments are a bit disruptive but a well-written character-driven above-average straight-to-video actioner. Small achievements like this should not be overlooked when they come along which is rare enough (as I was reminded as I tried to sit through an Albert Pyun monstrosity called Heatseeker the other night -- this low-budget stuff isnt as easy as it looks -- but thats another story!)'\n",
      "review: \n",
      "'Bored and unhappy young babe Zandalee (a winningly sultry and vibrant performance by luscious brunette knockout Erika Anderson) feels trapped in a stale and loveless marriage to failed poet and decent yet dull businessman Thierry Martin (a solid and credible portrayal by Judge Reinhold). Zandalee has a torrid adulterous fling with sleazy and arrogant artist Johnny Collins (deliciously played to the slimy hilt by Nicolas Cage). Can the relationship between Thierry and Zandalee be salvaged? Or is everything going to fall apart and go to seed? Director Sam Pillsbury and screenwriter Mari Kornhauser lay on the tawdry soap opera-style histrionics something thick while attempting to tell a wannabe serious and insightful story about desire run amok and its potentially dangerous consequences; the plot goes gloriously off the rails in the laughably histrionic last third. The dialogue is likewise hilariously silly and vulgar (sample line: I wanna shake you naked and eat you alive). Better still this flick certainly delivers plenty of tasty female nudity (the gorgeously statuesque Anderson looks smoking hot in the buff) and sizzling semi-pornographic soft-core sex scenes (Johnny and Zandalee doing the dirty deed in a church confessional booth rates as a definite steamy highlight). The tartntangy New Orleans setting adds extra spice to the already steamy proceedings. With his long scruffy black hair greasy mustache foul mouth and coarse manners Cages Johnny is an absolute hoot as the single most grossly unappealing romantic lead to ever ooze his way onto celluloid. The cast deserve props for acting with admirable sincerity: Anderson Cage and Reinhold all do respectable work with their parts with fine support from Joe Pantoliano as Zandalees merry flamboyant homosexual friend Gerri Viveca Lindfors as Theirrys wise perceptive mother Tatta Aaron Neville as friendly bartender Jack and Steve Buscemi as a funny blithely shameless thief. Walt Lloyds sharp and gleaming cinematography gives the picture an attractive glossy look. The flavorsome harmonic score by Pray for Rain likewise hits the spot. A delightfully campy and seamy riot.'\n",
      "review: \n",
      "'I rated this a ten just because I find it so impressive what a single eighteen year old can do with a video camera. Its no epic but its plenty engaging and I was never bored. If tens of millions of dollars can go into the countless bad films that are poured out en masse then give this director the same amount of money and see what happens. I know Ill be lining up at the local cinema for her first major release. Damn good job and well worth the money. What a script! It might be low budget but it beats the hell out of half the major pictures Ive seen lately. Nanavati knows how to tell a story both in writing and on screen. Serious kudos to her cant wait to see more.'\n",
      "review: \n",
      "'This movie has it all action fighting dancing bull riding music pretty girls. This movie is an authenic look at middle America. Believe me I was there in 1980. Lots of oil money lots of women and lots of honky tonks. Too bad they are all gone now. The movie is essentially just another boy meets girl boy loses girl boy gets girl back but it is redeemed by the actors and the music. There is absolutely no movie with any better music that this movie and that includes American Graffiti. It is a movie I watch over and over again and never get tired of it. Every time I watch it I am young again and it is time to go out honky tonking. The only reason I only gave it a 9 is because you cannot rate a movie zero I do not feel you should rate one 10.'\n",
      "review: \n",
      "'In this satire of the commercialization and lightheartedness of war John Cusack plays Brand Hauser an assassin sent to to Turaqistan to take out Omar Sharif who is doing some oil business that will spell trouble for the former Vice President of the USs own company. In addition to this Hauser must juggle his fake position as a trade show producer a wedding for pop princess Yonica (Hillary Duff) and a nosy Liberal journalist Natalie (Marisa Tomei). Assessing the technical aspects:  - The acting (by the main charactersat least) was good as was to be expected. Some of John Cusacks dialogue was quite obviously not written for him as he often seemed uncomfortable saying it. . . maybe unrealistic is more accurate. Joan put forth a great and often hilarious performance. Marisa Tomei while Ive never been a big fan of hers was more than suitable for the role and worked well. Hillary Duff however was pretty terrible. They needed an attractive Middle Eastern (or Russian or whatever that accent was supposed to be) pop-star. Unfortunately they went 0 for 3 with her. - Like I said above the writing seemed a little stiff and mismatched at points especially John Cusacks dialogue. Not much of it mind but some. The story also got a bit ludicrous at points which is fine for a satire to a point but it took it to a whole new level here. Luckily the Cusacks and Tomei keep a relatively cool calm demeanor throughout and that makes a nice even mix of the craziness of the film and the levelheadedness of the actors. - Joshua Seftel who previously had a drought of real credits to his name did a fine job with a rather wide-spectrum film. He handled the small ($10 million) budget very well stretching it to make it appear to be much more. Seftel also managed to nicely blend the humour of the story. . . with the painful and hard-to-watch parts of the real war (including slaughter of civilians etc.). - As far as the general satire goes its exaggerated look on the commercializing of war is very well done especially the Golden Palace Poker ads on the U.S. tanks. At points it becomes a little too much but in the end it still accurate portrays what its going for an a young Mel Brooks-type of style. Overall the film is very well made for the meager budget and its definitely worthy of a look. It wont go down as one of the great satires of cinema but its certainly not the worst. 7/10.'\n"
     ]
    }
   ],
   "source": [
    "predictions = clf.predict(X_test_binary)\n",
    "\n",
    "# Code here to display 5 incorrect reviews.\n",
    "positives = np.where(Y_test==1)[0]\n",
    "incorrect_idx=np.where(predictions[positives]!=Y_test[positives])[0]\n",
    "# 5 incorrectly classified reviews\n",
    "#print X_test[incorrect_idx]\n",
    "count=1\n",
    "for i in range(len(predictions)):\n",
    "    if Y_test.iloc[i]==1 and predictions[i]!=1:\n",
    "        print \"review: \\n\", X_test.iloc[i]\n",
    "        count+=1\n",
    "        if(count==6): break\n",
    "#print X_test"
   ]
  },
  {
   "cell_type": "markdown",
   "metadata": {},
   "source": [
    "###### Answer\n",
    "Clearly, some of the wrong predcitions.  \n",
    "The third prediction which the model got incorrect has a lot of negative words such as \"awful the jokes were soo bad\", \"my head still hurt\", \"could play dumb dumb\" etc. But the overall rating is postive. Thus the model got tricked into wrong prediction.\n"
   ]
  },
  {
   "cell_type": "code",
   "execution_count": null,
   "metadata": {
    "collapsed": true
   },
   "outputs": [],
   "source": []
  }
 ],
 "metadata": {
  "kernelspec": {
   "display_name": "Python 2",
   "language": "python",
   "name": "python2"
  },
  "language_info": {
   "codemirror_mode": {
    "name": "ipython",
    "version": 2
   },
   "file_extension": ".py",
   "mimetype": "text/x-python",
   "name": "python",
   "nbconvert_exporter": "python",
   "pygments_lexer": "ipython2",
   "version": "2.7.13"
  }
 },
 "nbformat": 4,
 "nbformat_minor": 0
}
